{
  "nbformat": 4,
  "nbformat_minor": 0,
  "metadata": {
    "colab": {
      "provenance": [],
      "gpuType": "T4",
      "authorship_tag": "ABX9TyPW6Vv3FDkYzjVbZeRZG1Kh",
      "include_colab_link": true
    },
    "kernelspec": {
      "name": "python3",
      "display_name": "Python 3"
    },
    "language_info": {
      "name": "python"
    },
    "accelerator": "GPU"
  },
  "cells": [
    {
      "cell_type": "markdown",
      "metadata": {
        "id": "view-in-github",
        "colab_type": "text"
      },
      "source": [
        "<a href=\"https://colab.research.google.com/github/epic-miner/forgeui-lightningai/blob/main/Untitled10.ipynb\" target=\"_parent\"><img src=\"https://colab.research.google.com/assets/colab-badge.svg\" alt=\"Open In Colab\"/></a>"
      ]
    },
    {
      "cell_type": "markdown",
      "source": [
        "RUN cell to launch forge ui"
      ],
      "metadata": {
        "id": "BPnkThfzgIRu"
      }
    },
    {
      "cell_type": "code",
      "execution_count": null,
      "metadata": {
        "id": "vzqDfdF5fpbx"
      },
      "outputs": [],
      "source": [
        "!pip install pygit2==1.12.2\n",
        "!git clone https://github.com/lllyasviel/stable-diffusion-webui-forge.git\n",
        "%cd stable-diffusion-webui-forge\n",
        "!python launch.py --share\n"
      ]
    },
    {
      "cell_type": "markdown",
      "source": [
        "DOWNLOAD **MODELS**  after lauching terminal"
      ],
      "metadata": {
        "id": "8vqqrPk2f8P2"
      }
    },
    {
      "cell_type": "code",
      "source": [
        "!pip install langchain langchain-core langchain-community colab-xterm > /dev/null 2>&1\n",
        "print(\"Done\")\n",
        "\n",
        "%load_ext colabxterm\n",
        "\n"
      ],
      "metadata": {
        "id": "ZjB-z3kOfz9f"
      },
      "execution_count": null,
      "outputs": []
    },
    {
      "cell_type": "markdown",
      "source": [
        "LAUNCH TERMINAL"
      ],
      "metadata": {
        "id": "SoMjAjGWglBX"
      }
    },
    {
      "cell_type": "code",
      "source": [
        "%xterm"
      ],
      "metadata": {
        "id": "buHHAeDegXzF"
      },
      "execution_count": null,
      "outputs": []
    }
  ]
}